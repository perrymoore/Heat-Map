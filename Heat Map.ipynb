{
 "cells": [
  {
   "cell_type": "code",
   "execution_count": 7,
   "metadata": {},
   "outputs": [
    {
     "name": "stdout",
     "output_type": "stream",
     "text": [
      "0     1.000000\n",
      "1     1.103754\n",
      "2     0.972977\n",
      "3     0.974512\n",
      "4     0.844089\n",
      "5     1.656495\n",
      "6     1.721190\n",
      "7     1.070141\n",
      "8     1.285897\n",
      "9     1.206926\n",
      "10    1.377403\n",
      "11    2.164098\n",
      "12    1.255710\n",
      "13    0.863870\n",
      "14    0.949597\n",
      "15    1.050228\n",
      "16    3.770215\n",
      "17    3.071708\n",
      "Name: Theta, dtype: float64\n"
     ]
    },
    {
     "data": {
      "image/png": "[encoded data removed]",
      "text/plain": [
       "<Figure size 432x288 with 2 Axes>"
      ]
     },
     "metadata": {
      "needs_background": "light"
     },
     "output_type": "display_data"
    }
   ],
   "source": [
    "import numpy as np\n",
    "import pandas as pd\n",
    "import matplotlib\n",
    "import matplotlib.pyplot as plt\n",
    "from matplotlib.colors import BoundaryNorm\n",
    "from matplotlib.ticker import MaxNLocator\n",
    "\n",
    "\n",
    "# Read the excel data\n",
    "# Change this to fit your csv folder's location\n",
    "df = pd.read_csv(\"C:\\\\Users\\\\perry\\\\OneDrive\\\\Documents\\\\Thermistor Data.csv\")\n",
    "print(df['Theta'])\n",
    "\n",
    "# Create an array of thermistors and their temperatures\n",
    "theta = np.asarray(df['Theta'])\n",
    "\n",
    "\n",
    "# Re-arange list values to follow their respective x,y coordinates    \n",
    "theta = [theta[0:3], theta[3:6], theta[6:9], theta[9:12], theta[12:15], theta[15:18]]\n",
    "\n",
    "x = np.arange(0,3.125,1)\n",
    "y = np.arange(-0.5,6.125,1)\n",
    "\n",
    "cmap = plt.get_cmap('RdBu')\n",
    "\n",
    "fig, ax0 = plt.subplots()\n",
    "ax0.set_xlabel('X Coordinate')\n",
    "ax0.set_ylabel('Y Coordinate')\n",
    "ax0.set_title('2-D Heat Conduction Map')\n",
    "im = ax0.pcolormesh(x, y, theta, cmap=cmap)\n",
    "cbar = fig.colorbar(im, ax=ax0)\n",
    "cbar.set_label('Theta, (T(x,t) - Tinf)/(Ti - Tinf)')\n",
    "#Save map\n",
    "plt.savefig('Heat Map.png')\n",
    "\n"
   ]
  },
  {
   "cell_type": "code",
   "execution_count": null,
   "metadata": {},
   "outputs": [],
   "source": []
  },
  {
   "cell_type": "code",
   "execution_count": null,
   "metadata": {},
   "outputs": [],
   "source": []
  },
  {
   "cell_type": "code",
   "execution_count": null,
   "metadata": {},
   "outputs": [],
   "source": []
  }
 ],
 "metadata": {
  "kernelspec": {
   "display_name": "Python 3",
   "language": "python",
   "name": "python3"
  },
  "language_info": {
   "codemirror_mode": {
    "name": "ipython",
    "version": 3
   },
   "file_extension": ".py",
   "mimetype": "text/x-python",
   "name": "python",
   "nbconvert_exporter": "python",
   "pygments_lexer": "ipython3",
   "version": "3.7.6"
  }
 },
 "nbformat": 4,
 "nbformat_minor": 4
}

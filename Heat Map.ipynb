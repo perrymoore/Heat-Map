{
 "cells": [
  {
   "cell_type": "code",
   "execution_count": 19,
   "metadata": {},
   "outputs": [
    {
     "name": "stdout",
     "output_type": "stream",
     "text": [
      "    x  y  Therm1 Temp  Therm2 Temp  Therm3 Temp\n",
      "0   0  0       0.0000       0.0000       0.0000\n",
      "1   0  1      38.3284      31.8188      39.0038\n",
      "2   0  2      39.6324      32.3312      39.4351\n",
      "3   0  3      38.9049      31.5643      38.7178\n",
      "4   0  4      39.0498      30.5578      37.7258\n",
      "5   0  5      38.4721      30.6827      43.5858\n",
      "6   1  0      39.9254      37.1486      41.9280\n",
      "7   1  1      40.2196      34.8276      40.5978\n",
      "8   1  2      39.6324      30.5578      42.2268\n",
      "9   1  3      40.3672      29.2038      42.6772\n",
      "10  1  4      39.3405      35.2311      40.8914\n",
      "11  1  5      37.8990      34.6936      41.6304\n",
      "12  2  0      40.8116      30.5578      43.4336\n",
      "13  2  1      40.6632      33.7639      39.7240\n",
      "14  2  2      39.6324      32.9781      39.2970\n",
      "15  2  3      41.4084      34.0281      41.7791\n",
      "16  2  4      35.6544      34.0281      40.1596\n",
      "17  2  5      36.6271      34.4265      41.1861\n",
      "[[0.0, 36.38366666666666, 37.1329], [36.39566666666666, 35.77779999999999, 37.5802], [39.66733333333334, 38.54833333333334, 37.47233333333333], [37.416066666666666, 38.48766666666666, 38.074333333333335], [38.26766666666666, 38.05036666666667, 37.3025], [39.071866666666665, 36.61403333333333, 37.41323333333333]]\n"
     ]
    },
    {
     "data": {
      "image/png": "[encoded data removed]",
      "text/plain": [
       "<Figure size 432x288 with 2 Axes>"
      ]
     },
     "metadata": {
      "needs_background": "light"
     },
     "output_type": "display_data"
    }
   ],
   "source": [
    "import numpy as np\n",
    "import pandas as pd\n",
    "import matplotlib\n",
    "import matplotlib.pyplot as plt\n",
    "from matplotlib.colors import BoundaryNorm\n",
    "from matplotlib.ticker import MaxNLocator\n",
    "\n",
    "\n",
    "# Read the Pharma Sector data \n",
    "df = pd.read_csv(\"C:\\\\Users\\\\perry\\\\OneDrive\\\\Documents\\\\Thermistor Data.csv\")\n",
    "print(df.head(18))\n",
    "\n",
    "# Create an array of thermistors and their temperatures\n",
    "therm1 = np.asarray(df['Therm1 Temp'])\n",
    "therm2 = np.asarray(df['Therm2 Temp'])\n",
    "therm3 = np.asarray(df['Therm3 Temp'])\n",
    "thermavg = []\n",
    "\n",
    "for num in range(0,18):\n",
    "    thermavg.append((therm1[num] + therm2[num] + therm3[num])/3)\n",
    "    \n",
    "\n",
    "thermavg = [thermavg[0:3], thermavg[3:6], thermavg[6:9], thermavg[9:12], thermavg[12:15], thermavg[15:18]]\n",
    "print(thermavg)\n",
    "\n",
    "x = np.arange(0,3.125,1)\n",
    "y = np.arange(-0.5,6.125,1)\n",
    "\n",
    "cmap = plt.get_cmap('PiYG')\n",
    "\n",
    "fig, ax0 = plt.subplots()\n",
    "\n",
    "im = ax0.pcolormesh(x, y, thermavg, cmap=cmap)\n",
    "fig.colorbar(im, ax=ax0)\n",
    "\n",
    "plt.savefig('Heat Map.png')\n",
    "\n"
   ]
  },
  {
   "cell_type": "code",
   "execution_count": null,
   "metadata": {},
   "outputs": [],
   "source": []
  },
  {
   "cell_type": "code",
   "execution_count": null,
   "metadata": {},
   "outputs": [],
   "source": []
  },
  {
   "cell_type": "code",
   "execution_count": null,
   "metadata": {},
   "outputs": [],
   "source": []
  }
 ],
 "metadata": {
  "kernelspec": {
   "display_name": "Python 3",
   "language": "python",
   "name": "python3"
  },
  "language_info": {
   "codemirror_mode": {
    "name": "ipython",
    "version": 3
   },
   "file_extension": ".py",
   "mimetype": "text/x-python",
   "name": "python",
   "nbconvert_exporter": "python",
   "pygments_lexer": "ipython3",
   "version": "3.7.6"
  }
 },
 "nbformat": 4,
 "nbformat_minor": 4
}

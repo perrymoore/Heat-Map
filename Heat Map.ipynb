{
 "cells": [
  {
   "cell_type": "code",
   "execution_count": 35,
   "metadata": {},
   "outputs": [
    {
     "data": {
      "image/png": "[encoded data removed]",
      "text/plain": [
       "<Figure size 432x288 with 2 Axes>"
      ]
     },
     "metadata": {
      "needs_background": "light"
     },
     "output_type": "display_data"
    }
   ],
   "source": [
    "import numpy as np\n",
    "import pandas as pd\n",
    "import matplotlib\n",
    "import matplotlib.pyplot as plt\n",
    "from matplotlib.colors import BoundaryNorm\n",
    "from matplotlib.ticker import MaxNLocator\n",
    "\n",
    "\n",
    "# Read the excel data\n",
    "# Change this to fit your csv folder's location\n",
    "df = pd.read_csv(\"C:\\\\Users\\\\perry\\\\OneDrive\\\\Documents\\\\Thermistor Data.csv\")\n",
    "\n",
    "# Create an array of thermistors and their temperatures\n",
    "therm1 = np.asarray(df['Therm1 Temp'])\n",
    "therm2 = np.asarray(df['Therm2 Temp'])\n",
    "therm3 = np.asarray(df['Therm3 Temp'])\n",
    "thermavg = []\n",
    "\n",
    "# Average values from different data frames\n",
    "for num in range(0,len(therm1)):\n",
    "    thermavg.append((therm1[num] + therm2[num] + therm3[num])/3)\n",
    "    \n",
    "# Re-arange list values to follow their respective x,y coordinates    \n",
    "thermavg = [thermavg[0:3], thermavg[3:6], thermavg[6:9], thermavg[9:12], thermavg[12:15], thermavg[15:18]]\n",
    "\n",
    "x = np.arange(0,3.125,1)\n",
    "y = np.arange(-0.5,6.125,1)\n",
    "\n",
    "cmap = plt.get_cmap('PiYG')\n",
    "\n",
    "fig, ax0 = plt.subplots()\n",
    "ax0.set_xlabel('X Coordinate')\n",
    "ax0.set_ylabel('Y Coordinate')\n",
    "ax0.set_title('2-D Heat Conduction Map')\n",
    "im = ax0.pcolormesh(x, y, thermavg, cmap=cmap)\n",
    "cbar = fig.colorbar(im, ax=ax0)\n",
    "cbar.set_label('Temperature in Celcius')\n",
    "#Save map\n",
    "plt.savefig('Heat Map.png')\n",
    "\n"
   ]
  },
  {
   "cell_type": "code",
   "execution_count": null,
   "metadata": {},
   "outputs": [],
   "source": []
  },
  {
   "cell_type": "code",
   "execution_count": null,
   "metadata": {},
   "outputs": [],
   "source": []
  },
  {
   "cell_type": "code",
   "execution_count": null,
   "metadata": {},
   "outputs": [],
   "source": []
  }
 ],
 "metadata": {
  "kernelspec": {
   "display_name": "Python 3",
   "language": "python",
   "name": "python3"
  },
  "language_info": {
   "codemirror_mode": {
    "name": "ipython",
    "version": 3
   },
   "file_extension": ".py",
   "mimetype": "text/x-python",
   "name": "python",
   "nbconvert_exporter": "python",
   "pygments_lexer": "ipython3",
   "version": "3.7.6"
  }
 },
 "nbformat": 4,
 "nbformat_minor": 4
}
